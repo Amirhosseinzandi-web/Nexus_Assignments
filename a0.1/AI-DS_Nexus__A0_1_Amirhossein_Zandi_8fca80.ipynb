{
  "cells": [
    {
      "cell_type": "markdown",
      "metadata": {
        "id": "ZS5lje_18xC2"
      },
      "source": [
        "# 📚 Assignment 1 — Python Fundamentals\n",
        "\n",
        "<p align=\"center\">📢⚠️📂  </p>\n",
        "\n",
        "<p align=\"center\"> Please name your file using the format: <code>assignmentName_nickname.py/.ipynb</code> (e.g., <code>project1_ali.py</code>) and push it to GitHub with a clear commit message.</p>\n",
        "\n",
        "<p align=\"center\"> 🚨📝🧠 </p>\n",
        "\n",
        "------------------------------------------------\n",
        "Welcome to your first hands-on practice! This set of four mini-projects walks you through the basics every Python (and ML) developer leans on daily:\n",
        "\n",
        "1. Variable types\n",
        "\n",
        "2. Core containers\n",
        "\n",
        "3. Functions\n",
        "\n",
        "4. Classes\n",
        "\n",
        "Each part begins with quick pointers, then gives you two bite-sized tasks to code. Replace every # TODO with working Python and run your script or notebook to check the result. Happy hacking! 😊"
      ]
    },
    {
      "cell_type": "markdown",
      "metadata": {
        "id": "u5vvtK-6840I"
      },
      "source": [
        "## 1. Variable Types 🧮\n",
        "**Quick-start notes**\n",
        "\n",
        "* Primitive types: `int`, `float`, `str`, `bool`\n",
        "\n",
        "* Use `type(obj)` to inspect an object’s type.\n",
        "\n",
        "* Casting ↔ converting: `int(\"3\")`, `str(3.14)`, `bool(0)`, etc."
      ]
    },
    {
      "cell_type": "markdown",
      "metadata": {
        "id": "UyNHtkGm9OgH"
      },
      "source": [
        "### Task 1 — Celsius → Fahrenheit\n",
        "\n"
      ]
    },
    {
      "cell_type": "code",
      "execution_count": 2,
      "metadata": {
        "id": "lmaiboJe8E15"
      },
      "outputs": [
        {
          "name": "stdout",
          "output_type": "stream",
          "text": [
            "30.0°C is equal to 86.0°F\n"
          ]
        }
      ],
      "source": [
        "# 👉 a Celsius temperature (as text), convert it to float,\n",
        "#    compute Fahrenheit (°F = °C * 9/5 + 32) and print a nicely formatted line.\n",
        "# TODO: your code here\n",
        "\n",
        "celsius_text = \"30\"\n",
        "celsius_num = float(celsius_text)\n",
        "Fahrenheit_temp = celsius_num * 9/5 + 32\n",
        "print(f\"{celsius_num}°C is equal to {Fahrenheit_temp}°F\")"
      ]
    },
    {
      "cell_type": "markdown",
      "metadata": {
        "id": "BtsB8QKM9Xs_"
      },
      "source": [
        "### Task 2 — Tiny Calculator\n"
      ]
    },
    {
      "cell_type": "code",
      "execution_count": 3,
      "metadata": {
        "id": "DSR8aS-F9Z10"
      },
      "outputs": [
        {
          "name": "stdout",
          "output_type": "stream",
          "text": [
            "sum : 13.4\n",
            "difference : 6.6\n",
            "product : 34.0\n",
            "true division : 2.9411764705882355\n",
            "floor division : 2.0\n"
          ]
        }
      ],
      "source": [
        "# 👉 Store two numbers of **different types** (one int, one float),\n",
        "#    then print their sum, difference, product, true division, and floor division.\n",
        "# TODO: your code here\n",
        "\n",
        "num1 = 10\n",
        "num2 = 3.4\n",
        "\n",
        "print(f\"sum : {num1 + num2}\")\n",
        "print(f\"difference : {num1 - num2}\")\n",
        "print(f\"product : {num1 * num2}\")\n",
        "print(f\"true division : {num1 / num2}\")\n",
        "print(f\"floor division : {num1 // num2}\")"
      ]
    },
    {
      "cell_type": "markdown",
      "metadata": {
        "id": "8JjHX4wy9dPz"
      },
      "source": [
        "## 2. Containers 📦 (list, tuple, set, dict)\n",
        "**Quick-start notes**\n",
        "\n",
        "| Container | Mutable? | Ordered?                      | Typical use                       |\n",
        "| --------- | -------- | ----------------------------- | --------------------------------- |\n",
        "| `list`    | ✔        | ✔                             | Growth, indexing, slicing         |\n",
        "| `tuple`   | ✖        | ✔                             | Fixed-size records, hashable keys |\n",
        "| `set`     | ✔        | ✖                             | Deduplication, membership tests   |\n",
        "| `dict`    | ✔        | ✖ (3.7 + preserves insertion) | Key → value look-ups              |\n"
      ]
    },
    {
      "cell_type": "markdown",
      "metadata": {
        "id": "wRyJyhbt9uUr"
      },
      "source": [
        "### Task 1 — Grocery Basket\n",
        "\n"
      ]
    },
    {
      "cell_type": "code",
      "execution_count": 4,
      "metadata": {
        "id": "1J4jcLct9yVO"
      },
      "outputs": [
        {
          "name": "stdout",
          "output_type": "stream",
          "text": [
            "third item in basket : banana\n"
          ]
        }
      ],
      "source": [
        "# Start with an empty shopping list (list).\n",
        "# 1. Append at least 4 items supplied in one line of user input (comma-separated).\n",
        "# 2. Convert the list to a *tuple* called immutable_basket.\n",
        "# 3. Print the third item using tuple indexing.\n",
        "# TODO: your code here\n",
        "\n",
        "shopping_list = []\n",
        "\n",
        "user_input = [\"apple\" , \"milk\" , \"banana\" , \"chocolate\"]\n",
        "shopping_list.append(user_input)\n",
        "\n",
        "immutable_basket = tuple(shopping_list[0])\n",
        "\n",
        "print(f\"third item in basket : {immutable_basket[2]}\")"
      ]
    },
    {
      "cell_type": "markdown",
      "metadata": {
        "id": "byKd8SFK9w2y"
      },
      "source": [
        "### Task 2 — Word Stats"
      ]
    },
    {
      "cell_type": "code",
      "execution_count": 5,
      "metadata": {
        "id": "4rLrxkPj90p3"
      },
      "outputs": [
        {
          "name": "stdout",
          "output_type": "stream",
          "text": [
            "Unique words : {'is', 'that', 'the', 'or', 'to', 'be', 'question', 'not'}\n",
            "Word counts : {'to': 2, 'be': 2, 'or': 1, 'not': 1, 'that': 1, 'is': 1, 'the': 1, 'question': 1}\n"
          ]
        }
      ],
      "source": [
        "sample = \"to be or not to be that is the question\"\n",
        "\n",
        "# 1. Build a set `unique_words` containing every distinct word.\n",
        "# 2. Build a dict `word_counts` mapping each word to the number of times it appears.\n",
        "#    (Hint: .split() + a simple loop)\n",
        "# 3. Print the two structures and explain (in a comment) their main difference.\n",
        "# TODO: your code here\n",
        "\n",
        "sample = \"to be or not to be that is the question\"\n",
        "\n",
        "word_fragment = sample.split()\n",
        "unique_words = set(word_fragment)\n",
        "\n",
        "word_counts = {}\n",
        "for item in word_fragment:\n",
        "    if item in word_counts:\n",
        "        word_counts[item] += 1\n",
        "    else:\n",
        "        word_counts[item] = 1\n",
        "\n",
        "print(f\"Unique words : {unique_words}\")\n",
        "print(f\"Word counts : {word_counts}\")"
      ]
    },
    {
      "cell_type": "markdown",
      "metadata": {
        "id": "gbGMbtLf94M4"
      },
      "source": [
        "## 3. Functions 🔧\n",
        "**Quick-start notes**\n",
        "\n",
        "* Define with `def`, return with `return`.\n",
        "\n",
        "* Parameters can have default values.\n",
        "\n",
        "* Docstrings (`\"\"\" … \"\"\"`) document behaviour."
      ]
    },
    {
      "cell_type": "markdown",
      "metadata": {
        "id": "QOsToPh2-AnZ"
      },
      "source": [
        "### Task 1 — Prime Tester"
      ]
    },
    {
      "cell_type": "code",
      "execution_count": 6,
      "metadata": {
        "id": "_pCU2mIH-DAi"
      },
      "outputs": [
        {
          "name": "stdout",
          "output_type": "stream",
          "text": [
            "[2, 3, 5, 7]\n"
          ]
        }
      ],
      "source": [
        "# def is_prime(n: int) -> bool:\n",
        "#     \"\"\"\n",
        "#     Return True if n is a prime number, else False.\n",
        "#     0 and 1 are *not* prime.\n",
        "#     \"\"\"\n",
        "#     # TODO: replace pass with your implementation\n",
        "#     pass\n",
        "\n",
        "\n",
        "# Quick self-check\n",
        "# print([x for x in range(10) if is_prime(x)])   # Expected: [2, 3, 5, 7]\n",
        "\n",
        "def is_prime(x):\n",
        "    if x <= 1:\n",
        "        return False\n",
        "    for i in range(2,x):\n",
        "        if x % i == 0:\n",
        "            return False\n",
        "    return True\n",
        "\n",
        "print([item for item in range(10) if is_prime(item)])"
      ]
    },
    {
      "cell_type": "markdown",
      "metadata": {
        "id": "TBGXIzVV-E5u"
      },
      "source": [
        "### Task 2 — Repeater Greeter"
      ]
    },
    {
      "cell_type": "code",
      "execution_count": 7,
      "metadata": {
        "id": "ycvsNyqh-GRM"
      },
      "outputs": [
        {
          "name": "stdout",
          "output_type": "stream",
          "text": [
            "Alice\n",
            "Bob Bob Bob\n"
          ]
        }
      ],
      "source": [
        "# def greet(name: str, times: int = 1) -> None:\n",
        "#     \"\"\"Print `name`, capitalised, exactly `times` times on one line.\"\"\"\n",
        "#     # TODO: your code here\n",
        "\n",
        "\n",
        "# greet(\"alice\")          # Alice\n",
        "# greet(\"bob\", times=3)   # Bob Bob Bob\n",
        "\n",
        "def greet(name , times = 1):\n",
        "    print(\" \".join([name.capitalize()] * times))\n",
        "\n",
        "greet(\"Alice\")\n",
        "greet(\"bob\", times=3)\n"
      ]
    },
    {
      "cell_type": "markdown",
      "metadata": {
        "id": "y7K-GaBC-ImE"
      },
      "source": [
        "## 4. Classes 🏗️\n",
        "**Quick-start notes**\n",
        "\n",
        "* Create with class Name:\n",
        "\n",
        "* Special method __init__ runs on construction.\n",
        "\n",
        "* self refers to the instance; attributes live on self."
      ]
    },
    {
      "cell_type": "markdown",
      "metadata": {
        "id": "NgKjsy8A-N3l"
      },
      "source": [
        "### Task 1 — Simple Counter"
      ]
    },
    {
      "cell_type": "code",
      "execution_count": 8,
      "metadata": {
        "id": "dPFvr_fe-OPR"
      },
      "outputs": [
        {
          "name": "stdout",
          "output_type": "stream",
          "text": [
            "5\n"
          ]
        }
      ],
      "source": [
        "# class Counter:\n",
        "#     \"\"\"Counts how many times `increment` is called.\"\"\"\n",
        "#     # TODO:\n",
        "#     # 1. In __init__, store an internal count variable starting at 0.\n",
        "#     # 2. Method increment(step: int = 1) adds `step` to the count.\n",
        "#     # 3. Method value() returns the current count.\n",
        "\n",
        "\n",
        "# c = Counter()\n",
        "# for _ in range(5):\n",
        "#     c.increment()\n",
        "# print(c.value())   # Expected: 5\n",
        "\n",
        "class Counter:\n",
        "    def __init__(self):\n",
        "        self.count = 0\n",
        "\n",
        "    def increment(self):\n",
        "        self.count += 1\n",
        "\n",
        "    def get_count(self)    :\n",
        "        return self.count\n",
        "    \n",
        "c = Counter()\n",
        "\n",
        "for item in range(5):\n",
        "    c.increment()\n",
        "print(c.get_count())"
      ]
    },
    {
      "cell_type": "markdown",
      "metadata": {
        "id": "U99aupan-Q8u"
      },
      "source": [
        "### Task 2 — 2-D Point with Distance"
      ]
    },
    {
      "cell_type": "code",
      "execution_count": 9,
      "metadata": {
        "id": "OVh3GEzH-T0w"
      },
      "outputs": [],
      "source": [
        "# import math\n",
        "\n",
        "# class Point:\n",
        "#     \"\"\"\n",
        "#     A 2-D point supporting distance calculation.\n",
        "#     Usage:\n",
        "#         p = Point(3, 4)\n",
        "#         q = Point(0, 0)\n",
        "#         print(p.distance_to(q))  # 5.0\n",
        "#     \"\"\"\n",
        "#     # TODO:\n",
        "#     # 1. Store x and y as attributes.\n",
        "#     # 2. Implement distance_to(other) using the Euclidean formula.\n",
        "\n",
        "\n",
        "# # Smoke test\n",
        "# p, q = Point(3, 4), Point(0, 0)\n",
        "# assert round(p.distance_to(q), 1) == 5.0\n",
        "\n",
        "\n",
        "import math\n",
        "\n",
        "class Point:\n",
        "    def __init__(self , x , y):\n",
        "        self.x = x\n",
        "        self.y = y\n",
        "\n",
        "    def distance_to(self , other):\n",
        "        result = math.sqrt((self.x - other.x)**2 + (self.y - other.y)**2)\n",
        "        return round(result , 1)\n",
        "    \n",
        "p = Point(3,4)\n",
        "q = Point(0 , 0)\n",
        "\n",
        "assert p.distance_to(q) == 5.0"
      ]
    }
  ],
  "metadata": {
    "colab": {
      "provenance": []
    },
    "kernelspec": {
      "display_name": ".venv",
      "language": "python",
      "name": "python3"
    },
    "language_info": {
      "codemirror_mode": {
        "name": "ipython",
        "version": 3
      },
      "file_extension": ".py",
      "mimetype": "text/x-python",
      "name": "python",
      "nbconvert_exporter": "python",
      "pygments_lexer": "ipython3",
      "version": "3.12.4"
    }
  },
  "nbformat": 4,
  "nbformat_minor": 0
}
