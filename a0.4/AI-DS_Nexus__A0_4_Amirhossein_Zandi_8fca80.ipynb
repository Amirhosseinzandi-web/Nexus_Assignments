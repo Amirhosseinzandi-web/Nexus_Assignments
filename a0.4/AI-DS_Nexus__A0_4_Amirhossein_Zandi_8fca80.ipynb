{
  "cells": [
    {
      "cell_type": "markdown",
      "metadata": {
        "id": "A1k4HkdO05Yu"
      },
      "source": [
        "# 📓 Assignment 4 — Linear Algebra Fundamentals\n",
        "\n",
        "*Vectors & Matrices for Everyday Coding*\n",
        "\n",
        "<p align=\"center\">📢⚠️📂  </p>\n",
        "\n",
        "<p align=\"center\"> Please name your file using the format: <code>assignmentName_nickname.py/.ipynb</code> (e.g., <code>project1_ali.py</code>) and push it to GitHub with a clear commit message.</p>\n",
        "\n",
        "<p align=\"center\"> 🚨📝🧠 </p>\n",
        "\n",
        "------------------------------------------------\n",
        "\n",
        "\n"
      ]
    },
    {
      "cell_type": "markdown",
      "metadata": {
        "id": "mBNupqPj1B1_"
      },
      "source": [
        "## Welcome back, intrepid coder! 🚀\n",
        "In this notebook-styled brief you’ll move from single-direction vectors to multi-direction matrices—core tools behind graphics, robotics, optimisation and (of course) machine-learning. Each mini-section mixes quick notes, a tiny real-world scenario, and hands-on # TODO code shaped for beginners.\n"
      ]
    },
    {
      "cell_type": "markdown",
      "metadata": {
        "id": "zD-AyQCe1Y9e"
      },
      "source": [
        "## 🧭 Vectors 101\n",
        "\n",
        "| Concept             | Quick reminder                                  |\n",
        "|---------------------|--------------------------------------------------|\n",
        "| Representation      | 1-D NumPy array — `np.array([x, y, z])`         |\n",
        "| Length (norm)       | `np.linalg.norm(v)`                             |\n",
        "| Dot / inner product | `v.dot(w)` or `np.inner(v, w)`                  |\n",
        "| Unit vector         | `v / np.linalg.norm(v)`                         |\n"
      ]
    },
    {
      "cell_type": "code",
      "execution_count": 1,
      "metadata": {
        "id": "AWVTIlQP0ysC"
      },
      "outputs": [
        {
          "name": "stdout",
          "output_type": "stream",
          "text": [
            "v shape: (4, 2, 3), v ndim: 3\n",
            "Norm of v ===> 28.478061731796284\n",
            "---------------------------------------------------\n",
            "w shape: (4, 3, 2), w ndim: 3\n",
            "Dot product of v and w ====> [[[ 33  67]\n",
            "  [ 66  85]]\n",
            "\n",
            " [[134 125]\n",
            "  [114 110]]\n",
            "\n",
            " [[ 29  68]\n",
            "  [ 57  75]]\n",
            "\n",
            " [[ 49  97]\n",
            "  [106  80]]]\n",
            "---------------------------------------------------\n",
            "dot_product shape: (4, 2, 2), dot_product ndim: 3\n"
          ]
        }
      ],
      "source": [
        "# Run once per session\n",
        "import numpy as np\n",
        "\n",
        "# TODO 1: create a 3-D vector named v\n",
        "# TODO 2: print its length\n",
        "# TODO 3: build a second vector w and output the dot product\n",
        "\n",
        "v = np.random.randint(1,10,size=(4 , 2 , 3))\n",
        "print(f\"v shape: {v.shape}, v ndim: {v.ndim}\")\n",
        "print(f\"Norm of v ===> {np.linalg.norm(v)}\")\n",
        "print(\"---------------------------------------------------\")\n",
        "\n",
        "w = np.random.randint(1,10,size=(4 , 3 , 2))\n",
        "print(f\"w shape: {w.shape}, w ndim: {w.ndim}\")\n",
        "\n",
        "dot_product = np.matmul(v, w)\n",
        "print(f\"Dot product of v and w ====> {dot_product}\")\n",
        "print(\"---------------------------------------------------\")\n",
        "print(f\"dot_product shape: {dot_product.shape}, dot_product ndim: {dot_product.ndim}\")"
      ]
    },
    {
      "cell_type": "markdown",
      "metadata": {
        "id": "c_iB5_0A1rg7"
      },
      "source": [
        "### 🚁 Practical Scenario — “Drone hop”\n",
        "A mini-drone lifts off at (2 m, 1 m) and lands at (7 m, 4 m).\n",
        "Calculate its displacement vector, travel distance, and orientation along the x-axis."
      ]
    },
    {
      "cell_type": "code",
      "execution_count": 3,
      "metadata": {
        "id": "Rq-tHCkF1x3p"
      },
      "outputs": [
        {
          "name": "stdout",
          "output_type": "stream",
          "text": [
            "Displacement ==> [5 3]\n",
            "shape of displacement ==> (2,)\n",
            "Distance ==> 5.830951894845301\n",
            "Unit ==> [0.85749293 0.51449576]\n",
            "Dot_x ==> 5\n"
          ]
        }
      ],
      "source": [
        "p_start = np.array([2,1])\n",
        "p_end = np.array([7,4])\n",
        "\n",
        "displacement = np.subtract(p_end, p_start)\n",
        "distance = np.linalg.norm(displacement)\n",
        "unit = displacement / distance\n",
        "dot_x = np.dot(displacement , [1,0])\n",
        "\n",
        "print(f\"Displacement ==> {displacement}\")\n",
        "print(f\"shape of displacement ==> {displacement.shape}\")\n",
        "print(f\"Distance ==> {distance}\")\n",
        "print(f\"Unit ==> {unit}\")\n",
        "print(f\"Dot_x ==> {dot_x}\")"
      ]
    },
    {
      "cell_type": "markdown",
      "metadata": {
        "id": "vqX_pXGq16Af"
      },
      "source": [
        "## 🔢 Matrices 101\n",
        "\n",
        "| Operation              | NumPy one-liner                                  |\n",
        "|------------------------|--------------------------------------------------|\n",
        "| Transpose              | `A.T`                                            |\n",
        "| Determinant            | `np.linalg.det(A)`                               |\n",
        "| Inverse                | `np.linalg.inv(A)` (works only if `det(A) ≠ 0`)  |\n",
        "| Matrix-vector multiply | `A @ v`                                          |\n",
        "| Matrix-matrix multiply | `A @ B`                                          |\n"
      ]
    },
    {
      "cell_type": "code",
      "execution_count": 4,
      "metadata": {
        "id": "yycidpaj2BAv"
      },
      "outputs": [
        {
          "name": "stdout",
          "output_type": "stream",
          "text": [
            "a shape ==> (2, 2), a ndim ==> 2\n",
            "-----------------------------------------------\n",
            "Det of a ==> -46.0\n",
            "A_inv ==> [[-0.04347826  0.17391304]\n",
            " [ 0.15217391 -0.10869565]]\n"
          ]
        }
      ],
      "source": [
        "# TODO 4: build a 2×2 matrix A\n",
        "# TODO 5: print its determinant\n",
        "# TODO 6: if invertible, compute and print A_inv\n",
        "\n",
        "a = np.random.randint(1 , 10 , size=(2,2))\n",
        "print(f\"a shape ==> {a.shape}, a ndim ==> {a.ndim}\")\n",
        "print(\"-----------------------------------------------\")\n",
        "\n",
        "det_a = np.linalg.det(a)\n",
        "print(f\"Det of a ==> {det_a}\")\n",
        "\n",
        "a_inv = np.linalg.inv(a)\n",
        "print(f\"A_inv ==> {a_inv}\")"
      ]
    },
    {
      "cell_type": "markdown",
      "metadata": {
        "id": "C-ikgDhF2DFn"
      },
      "source": [
        "### 🎯 Practical Scenario — “Rotate that hop”\n",
        "Rotate the drone’s displacement vector 30° counter-clockwise, then verify that the inverse rotation brings it back."
      ]
    },
    {
      "cell_type": "code",
      "execution_count": 5,
      "metadata": {
        "id": "SgmIesbf2G65"
      },
      "outputs": [
        {
          "name": "stdout",
          "output_type": "stream",
          "text": [
            "r ==> [[ 0.8660254 -0.5      ]\n",
            " [ 0.5        0.8660254]]\n",
            "---------------------------------------------\n",
            "shape of r ==> (2, 2)\n",
            "shape of d ==> (2,)\n",
            "shape of d_rotate ==> (2,)\n",
            "Theta ==> 0.5235987755982988\n",
            "Determinant of r ==> 1.0\n",
            "Back rotate is equal to d_roate?? ===> True\n"
          ]
        }
      ],
      "source": [
        "theta = np.deg2rad(30)\n",
        "\n",
        "r = np.array([[np.cos(theta), -np.sin(theta)],\n",
        "              [np.sin(theta),  np.cos(theta)]])\n",
        "\n",
        "det_r = np.linalg.det(r)\n",
        "\n",
        "d_rotate = np.matmul(r, displacement)\n",
        "d_back_rotate = np.matmul(np.linalg.inv(r), d_rotate)\n",
        "\n",
        "print(f\"r ==> {r}\")\n",
        "print(\"---------------------------------------------\")\n",
        "print(f\"shape of r ==> {r.shape}\")\n",
        "print(f\"shape of d ==> {displacement.shape}\")\n",
        "print(f\"shape of d_rotate ==> {d_rotate.shape}\")\n",
        "print(f\"Theta ==> {theta}\")\n",
        "print(f\"Determinant of r ==> {det_r}\")\n",
        "print(f\"Back rotate is equal to d_roate?? ===> {np.allclose(d_back_rotate , displacement)}\")"
      ]
    }
  ],
  "metadata": {
    "colab": {
      "provenance": []
    },
    "kernelspec": {
      "display_name": ".venv",
      "language": "python",
      "name": "python3"
    },
    "language_info": {
      "codemirror_mode": {
        "name": "ipython",
        "version": 3
      },
      "file_extension": ".py",
      "mimetype": "text/x-python",
      "name": "python",
      "nbconvert_exporter": "python",
      "pygments_lexer": "ipython3",
      "version": "3.12.4"
    }
  },
  "nbformat": 4,
  "nbformat_minor": 0
}
