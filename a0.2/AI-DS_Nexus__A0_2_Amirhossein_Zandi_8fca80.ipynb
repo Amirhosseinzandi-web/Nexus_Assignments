{
  "cells": [
    {
      "cell_type": "markdown",
      "metadata": {
        "id": "ZS5lje_18xC2"
      },
      "source": [
        "# 📚 Assignment 2 — NumPy, pandas & Matplotlib Essentials\n",
        "<p align=\"center\">📢⚠️📂  </p>\n",
        "\n",
        "<p align=\"center\"> Please name your file using the format: <code>assignmentName_nickname.py/.ipynb</code> (e.g., <code>project1_ali.py</code>) and push it to GitHub with a clear commit message.</p>\n",
        "\n",
        "<p align=\"center\"> 🚨📝🧠 </p>\n",
        "\n",
        "\n",
        "------------------------------------------------\n",
        "\n",
        "\n",
        "Welcome to your first data-science sprint! In this three-part mini-project you’ll touch the libraries every ML practitioner leans on daily:\n",
        "\n",
        "1. NumPy — fast n-dimensional arrays\n",
        "\n",
        "2. pandas — tabular data wrangling\n",
        "\n",
        "3. Matplotlib — quick, customizable plots\n",
        "\n",
        "Each part starts with “Quick-start notes”, then gives you two bite-sized tasks. Replace every # TODO with working Python in a notebook or script, run it, and check your results. Happy hacking! 😊\n"
      ]
    },
    {
      "cell_type": "markdown",
      "metadata": {
        "id": "u5vvtK-6840I"
      },
      "source": [
        "## 1 · NumPy 🧮\n",
        "Quick-start notes\n",
        "Core object: ndarray (n-dimensional array)\n",
        "\n",
        "Create data: np.array, np.arange, np.random.*\n",
        "\n",
        "Summaries: mean, std, sum, max, …\n",
        "\n",
        "Vectorised math beats Python loops for speed\n",
        "\n"
      ]
    },
    {
      "cell_type": "markdown",
      "metadata": {
        "id": "UyNHtkGm9OgH"
      },
      "source": [
        "### Task 1 — Mock temperatures\n",
        "\n"
      ]
    },
    {
      "cell_type": "code",
      "execution_count": 2,
      "metadata": {
        "id": "lmaiboJe8E15"
      },
      "outputs": [
        {
          "data": {
            "text/plain": [
              "array([19.79434   , 17.10966406, 21.71624745, 22.39088381, 10.86706725,\n",
              "       21.43571429, 17.26483258, 19.87588679, 21.38300459, 18.16201794,\n",
              "       22.8468564 , 23.20924633, 23.93925216, 17.71732008, 19.51114136,\n",
              "       13.04321414, 15.54167372, 11.72105048, 23.4083288 , 19.70735418,\n",
              "       14.9150078 , 15.92267663, 19.04137697, 22.45088307, 20.1460248 ,\n",
              "       17.8969062 , 24.40589568, 26.65093433, 24.55630809, 20.54845312,\n",
              "       28.99320603,  5.12785735, 19.281834  , 28.01074369, 22.9527796 ,\n",
              "       27.39796322, 19.43814589, 12.64098496, 23.95628719, 16.19764321,\n",
              "       22.28708897, 23.92903437, 14.4878666 , 10.86650586, 14.26243779,\n",
              "       10.54076093, 25.10051276, 23.52019564, 22.42076508, 15.11059543,\n",
              "       19.49543904, 18.63885663, 14.36509506, 25.50908676, 27.31182977,\n",
              "       25.99722788, 24.18027837, 26.93000288, 14.24874187, 22.1248614 ,\n",
              "       18.74921976, 15.06798838, 11.96315234, 19.39916124,  9.28253433,\n",
              "        9.56750188, 14.3714417 , 15.88641009, 17.09222974, 18.90384821,\n",
              "       21.0682228 , 13.85902634, 24.8101385 , 17.04198171, 11.2359977 ,\n",
              "       14.94720503, 28.31755276, 16.44156221, 17.55188453, 27.63323438,\n",
              "       15.34445682, 18.10569161, 20.06920139, 16.96112747, 15.25852076,\n",
              "       15.78112858, 14.09045545, 18.36050723, 22.61602043, 18.93259286,\n",
              "       21.29149297, 10.05080475, 19.65150108, 22.09338918, 16.34652034,\n",
              "       19.02900346, 14.55455273, 23.59069848, 17.33070888, 26.67568891,\n",
              "       22.28267803, 16.44535066, 13.24626548, 25.03232228, 13.99090405,\n",
              "       28.72393643, 15.32491353, 26.19313527, 26.67340139, 18.60938485,\n",
              "       28.52200278, 19.80431263, 16.56185564, 20.47382795, 17.58183732,\n",
              "       22.18966171, 20.70147918, 18.35292196, 19.59825116, 21.32436002,\n",
              "       10.49614704, 14.58671652, 17.02327347, 18.58303289, 11.68979874,\n",
              "       14.66434475, 23.71782773, 17.54185087, 17.53864868, 19.13132448,\n",
              "       17.59234147, 20.14397903, 22.62648612, 23.87397482, 11.48096616,\n",
              "       22.00465872, 26.49464834, 19.75664451, 15.21325891, 18.530134  ,\n",
              "       14.28539617, 12.76055571, 16.21763631, 16.45636527, 11.18733501,\n",
              "       19.83222491, 14.41462459, 12.7721551 , 16.12545439, 21.38725148,\n",
              "       17.72488021, 26.92710066, 11.20765256, 19.74111019, 23.92250694,\n",
              "       15.99350298, 16.76819198, 17.23619426, 15.32639066, 24.86583426,\n",
              "       20.94816956, 20.59159995, 22.13934287, 24.85981377, 16.30928829,\n",
              "       26.11215039, 26.72292579, 19.47565253, 11.25194708, 17.83246974,\n",
              "       11.98596613, 12.76269445, 18.09168769, 14.67427135, 16.96957932,\n",
              "       18.10825342, 13.18237341, 20.94135683, 14.42210507, 21.34581698,\n",
              "       16.24196393, 15.52726483, 21.32020149, 18.99039922,  3.19983246,\n",
              "       27.2897614 , 13.70939596, 20.34854257, 22.2310421 , 17.45825371,\n",
              "       11.48880104, 20.28312756, 23.837151  , 12.44688414, 23.01233687,\n",
              "       12.45511373, 19.95334188, 25.22154634, 15.66137156, 18.91506633,\n",
              "       19.34607067, 16.99565703, 23.79402952, 20.19091707, 15.89420693,\n",
              "       10.71195218, 20.87521657, 15.41063537, 13.74602048, 27.00886612,\n",
              "       29.81808238, 22.2852545 , 14.49895485, 17.97221186, 27.72603805,\n",
              "       25.49089525, 17.24238913, 17.16863332, 20.10984126, 16.82679208,\n",
              "       16.932259  , 24.91464926, 18.88647126, 16.53510736, 14.30605148,\n",
              "       25.40566528, 11.47347796, 17.57053512, 18.25843103, 29.59678153,\n",
              "       22.79198978, 15.77014714, 30.96422839, 21.41010221,  9.13447873,\n",
              "       24.71397068, 21.04236814, 26.28059598, 25.13020323, 22.08892121,\n",
              "       21.52399111, 30.79092073, 19.9251205 , 19.6892921 , 12.16743395,\n",
              "       13.80298077, 28.36773983, 22.38571494, 26.49135171, 19.08246313,\n",
              "       21.49413038, 25.96682714, 30.7722924 , 23.22189116, 13.45133664,\n",
              "       26.3085593 , 22.59595791, 11.77249288, 18.25335027, 16.12087896,\n",
              "       27.78247721, 23.31285255, 19.23132957, 21.39210677, 12.87713513,\n",
              "       25.74818872, 19.32739317, 17.12565515, 18.62210832, 30.22214181,\n",
              "       17.45742474, 34.35415342, 20.81219305, 21.3408855 , 23.42662383,\n",
              "       14.59902624, 25.1639105 , 17.7534784 , 19.83522366, 24.15410788,\n",
              "       21.86619367, 14.34023056, 28.14668391, 20.01673657, 27.63571504,\n",
              "       25.03557178, 17.2041235 , 28.95909002, 14.52286751, 14.58699202,\n",
              "       16.45777707, 22.96034039, 21.01914105, 14.97034636, 23.00115585,\n",
              "       20.71560756, 19.95409218, 17.24193871, 19.54686801, 18.9351969 ,\n",
              "       27.3179232 , 23.73666834, 18.62913022, 21.70441791, 20.32817685,\n",
              "       31.43760635, 19.68736731, 23.93667877, 16.91570368, 17.38560739,\n",
              "       31.93543669, 27.72026898, 27.76722692, 25.55733276, 22.83241392,\n",
              "       15.60253105, 22.885565  ,  9.211007  ,  9.69205026, 15.74206812,\n",
              "       19.55595844, 14.80844494, 22.7767592 , 18.19918521, 20.96985581,\n",
              "       22.35869334, 22.92588533, 17.70051188, 19.86105886, 14.20911854,\n",
              "       20.74755516, 20.50212714, 21.03391035, 24.30858174, 16.31851189,\n",
              "       17.22569743, 16.94213216, 26.71507427, 19.69690057, 19.46198816,\n",
              "       17.12504053, 16.22517244, 27.83544059, 20.14758376, 18.63261055,\n",
              "       14.26587491, 22.62875608,  9.94143625, 24.1457409 , 15.73437495,\n",
              "       16.84339066, 23.03074964, 25.83702666, 20.4596671 , 23.26448506,\n",
              "       22.17346256, 22.81831206, 19.03229237, 19.18973858, 24.8956509 ,\n",
              "       21.95449783, 22.87747275, 26.50233954, 17.93368775, 26.70552348])"
            ]
          },
          "execution_count": 2,
          "metadata": {},
          "output_type": "execute_result"
        }
      ],
      "source": [
        "# 👉 # TODO: import numpy and create an array of 365\n",
        "# normally-distributed °C values (µ=20, σ=5) called temps\n",
        "import numpy as np\n",
        "import pandas as pd\n",
        "import matplotlib.pyplot as plt\n",
        "\n",
        "temps = np.random.normal(loc=20 , scale=5 , size=365)\n",
        "temps\n"
      ]
    },
    {
      "cell_type": "markdown",
      "metadata": {
        "id": "BtsB8QKM9Xs_"
      },
      "source": [
        "### Task 2 — Average temperature\n"
      ]
    },
    {
      "cell_type": "code",
      "execution_count": 3,
      "metadata": {
        "id": "DSR8aS-F9Z10"
      },
      "outputs": [
        {
          "name": "stdout",
          "output_type": "stream",
          "text": [
            "19.64\n"
          ]
        }
      ],
      "source": [
        "# 👉 # TODO: print the mean of temps\n",
        "\n",
        "mean_temps = np.mean(temps)\n",
        "mean_temps = round(mean_temps , 2)\n",
        "print(mean_temps)"
      ]
    },
    {
      "cell_type": "markdown",
      "metadata": {
        "id": "8JjHX4wy9dPz"
      },
      "source": [
        "## 2 · pandas 📊\n",
        "Quick-start notes\n",
        "Main structures: DataFrame, Series\n",
        "\n",
        "Read data: pd.read_csv, pd.read_excel, …\n",
        "\n",
        "Selection: .loc[label], .iloc[pos]\n",
        "\n",
        "Group & summarise: .groupby(...).agg(...)\n",
        "\n"
      ]
    },
    {
      "cell_type": "markdown",
      "metadata": {
        "id": "wRyJyhbt9uUr"
      },
      "source": [
        "### Task 3 — Load ride log\n"
      ]
    },
    {
      "cell_type": "code",
      "execution_count": 4,
      "metadata": {
        "id": "1J4jcLct9yVO"
      },
      "outputs": [
        {
          "data": {
            "text/html": [
              "<div>\n",
              "<style scoped>\n",
              "    .dataframe tbody tr th:only-of-type {\n",
              "        vertical-align: middle;\n",
              "    }\n",
              "\n",
              "    .dataframe tbody tr th {\n",
              "        vertical-align: top;\n",
              "    }\n",
              "\n",
              "    .dataframe thead th {\n",
              "        text-align: right;\n",
              "    }\n",
              "</style>\n",
              "<table border=\"1\" class=\"dataframe\">\n",
              "  <thead>\n",
              "    <tr style=\"text-align: right;\">\n",
              "      <th></th>\n",
              "      <th>date</th>\n",
              "      <th>temp</th>\n",
              "      <th>rides</th>\n",
              "      <th>weekday</th>\n",
              "    </tr>\n",
              "  </thead>\n",
              "  <tbody>\n",
              "    <tr>\n",
              "      <th>0</th>\n",
              "      <td>2024-01-01</td>\n",
              "      <td>13.3</td>\n",
              "      <td>141</td>\n",
              "      <td>Monday</td>\n",
              "    </tr>\n",
              "    <tr>\n",
              "      <th>1</th>\n",
              "      <td>2024-01-02</td>\n",
              "      <td>18.4</td>\n",
              "      <td>174</td>\n",
              "      <td>Tuesday</td>\n",
              "    </tr>\n",
              "    <tr>\n",
              "      <th>2</th>\n",
              "      <td>2024-01-03</td>\n",
              "      <td>25.3</td>\n",
              "      <td>256</td>\n",
              "      <td>Wednesday</td>\n",
              "    </tr>\n",
              "    <tr>\n",
              "      <th>3</th>\n",
              "      <td>2024-01-04</td>\n",
              "      <td>19.5</td>\n",
              "      <td>188</td>\n",
              "      <td>Thursday</td>\n",
              "    </tr>\n",
              "    <tr>\n",
              "      <th>4</th>\n",
              "      <td>2024-01-05</td>\n",
              "      <td>25.6</td>\n",
              "      <td>234</td>\n",
              "      <td>Friday</td>\n",
              "    </tr>\n",
              "    <tr>\n",
              "      <th>...</th>\n",
              "      <td>...</td>\n",
              "      <td>...</td>\n",
              "      <td>...</td>\n",
              "      <td>...</td>\n",
              "    </tr>\n",
              "    <tr>\n",
              "      <th>360</th>\n",
              "      <td>2024-12-26</td>\n",
              "      <td>20.0</td>\n",
              "      <td>166</td>\n",
              "      <td>Thursday</td>\n",
              "    </tr>\n",
              "    <tr>\n",
              "      <th>361</th>\n",
              "      <td>2024-12-27</td>\n",
              "      <td>24.6</td>\n",
              "      <td>275</td>\n",
              "      <td>Friday</td>\n",
              "    </tr>\n",
              "    <tr>\n",
              "      <th>362</th>\n",
              "      <td>2024-12-28</td>\n",
              "      <td>16.1</td>\n",
              "      <td>171</td>\n",
              "      <td>Saturday</td>\n",
              "    </tr>\n",
              "    <tr>\n",
              "      <th>363</th>\n",
              "      <td>2024-12-29</td>\n",
              "      <td>18.3</td>\n",
              "      <td>216</td>\n",
              "      <td>Sunday</td>\n",
              "    </tr>\n",
              "    <tr>\n",
              "      <th>364</th>\n",
              "      <td>2024-12-30</td>\n",
              "      <td>20.6</td>\n",
              "      <td>213</td>\n",
              "      <td>Monday</td>\n",
              "    </tr>\n",
              "  </tbody>\n",
              "</table>\n",
              "<p>365 rows × 4 columns</p>\n",
              "</div>"
            ],
            "text/plain": [
              "           date  temp  rides    weekday\n",
              "0    2024-01-01  13.3    141     Monday\n",
              "1    2024-01-02  18.4    174    Tuesday\n",
              "2    2024-01-03  25.3    256  Wednesday\n",
              "3    2024-01-04  19.5    188   Thursday\n",
              "4    2024-01-05  25.6    234     Friday\n",
              "..          ...   ...    ...        ...\n",
              "360  2024-12-26  20.0    166   Thursday\n",
              "361  2024-12-27  24.6    275     Friday\n",
              "362  2024-12-28  16.1    171   Saturday\n",
              "363  2024-12-29  18.3    216     Sunday\n",
              "364  2024-12-30  20.6    213     Monday\n",
              "\n",
              "[365 rows x 4 columns]"
            ]
          },
          "execution_count": 4,
          "metadata": {},
          "output_type": "execute_result"
        }
      ],
      "source": [
        "# 👉 # TODO: read \"rides.csv\" into df\n",
        "# (columns: date,temp,rides,weekday)\n",
        "\n",
        "df = pd.read_csv(\"../datasets/rides.csv\")\n",
        "df"
      ]
    },
    {
      "cell_type": "markdown",
      "metadata": {
        "id": "byKd8SFK9w2y"
      },
      "source": [
        "### Task 4 — Weekday averages"
      ]
    },
    {
      "cell_type": "code",
      "execution_count": 5,
      "metadata": {
        "id": "4rLrxkPj90p3"
      },
      "outputs": [
        {
          "data": {
            "text/plain": [
              "weekday\n",
              "Friday       195.942308\n",
              "Monday       196.830189\n",
              "Saturday     188.884615\n",
              "Sunday       203.134615\n",
              "Thursday     206.403846\n",
              "Tuesday      201.461538\n",
              "Wednesday    210.576923\n",
              "Name: rides, dtype: float64"
            ]
          },
          "execution_count": 5,
          "metadata": {},
          "output_type": "execute_result"
        }
      ],
      "source": [
        "# 👉 # TODO: compute and print mean rides per weekday\n",
        "\n",
        "mean_rides = df.groupby(\"weekday\")[\"rides\"].mean()\n",
        "mean_rides"
      ]
    },
    {
      "cell_type": "markdown",
      "metadata": {
        "id": "gbGMbtLf94M4"
      },
      "source": [
        "## 3 · Matplotlib 📈\n",
        "Quick-start notes\n",
        "Workhorse: pyplot interface (import matplotlib.pyplot as plt)\n",
        "\n",
        "Figure & axes: fig, ax = plt.subplots()\n",
        "\n",
        "Common plots: plot, scatter, hist, imshow\n",
        "\n",
        "Display inline in Jupyter with %matplotlib inline or %matplotlib notebook"
      ]
    },
    {
      "cell_type": "markdown",
      "metadata": {
        "id": "QOsToPh2-AnZ"
      },
      "source": [
        "### Task 5 — Scatter plot"
      ]
    },
    {
      "cell_type": "code",
      "execution_count": 6,
      "metadata": {
        "id": "_pCU2mIH-DAi"
      },
      "outputs": [
        {
          "data": {
            "image/png": "[encoded data removed]",
            "text/plain": [
              "<Figure size 640x480 with 1 Axes>"
            ]
          },
          "metadata": {},
          "output_type": "display_data"
        }
      ],
      "source": [
        "# 👉 # TODO: scatter-plot temperature (x) vs rides (y) from df\n",
        "\n",
        "plt.scatter(df[\"temp\"] , df[\"rides\"])\n",
        "plt.xlabel(\"temperature\")\n",
        "plt.ylabel(\"rides\")\n",
        "plt.show()"
      ]
    }
  ],
  "metadata": {
    "colab": {
      "provenance": []
    },
    "kernelspec": {
      "display_name": ".venv",
      "language": "python",
      "name": "python3"
    },
    "language_info": {
      "codemirror_mode": {
        "name": "ipython",
        "version": 3
      },
      "file_extension": ".py",
      "mimetype": "text/x-python",
      "name": "python",
      "nbconvert_exporter": "python",
      "pygments_lexer": "ipython3",
      "version": "3.12.4"
    }
  },
  "nbformat": 4,
  "nbformat_minor": 0
}
